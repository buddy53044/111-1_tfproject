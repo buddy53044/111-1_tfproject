{
 "cells": [
  {
   "cell_type": "code",
   "execution_count": null,
   "metadata": {},
   "outputs": [],
   "source": [
    "import numpy as np\n",
    "import tensorflow as tf\n",
    "import matplotlib.pyplot as plt\n",
    "import os\n",
    "os.environ[\"CUDA_VISIBLE_DEVICES\"] = \"0\"\n",
    "\n",
    "\n",
    "size = 28\n",
    "n = 15\n",
    "save_images = np.zeros((size * n, size * n, 1))\n",
    "# linearly spaced coordinates corresponding to the 2D plot of digit classes in the latent space\n",
    "grid_x = np.linspace(-1.5, 1.5, n)\n",
    "grid_y = np.linspace(-1.5, 1.5, n)\n",
    "model = tf.keras.models.load_model('logs_vae_1/models/best_model.h5')\n",
    "for i, yi in enumerate(grid_x):\n",
    "    for j, xi in enumerate(grid_y):\n",
    "        z_sample = np.array([[xi, yi]])\n",
    "        img = model(z_sample)\n",
    "        save_images[i * size: (i + 1) * size, j * size: (j + 1) * size] = img.numpy()[0]\n",
    "\n",
    "plt.imshow(save_images[..., 0], cmap='gray')\n",
    "plt.show()\n",
    "plt.imsave('output.png', save_images[..., 0], cmap='gray')"
   ]
  }
 ],
 "metadata": {
  "language_info": {
   "name": "python"
  },
  "orig_nbformat": 4
 },
 "nbformat": 4,
 "nbformat_minor": 2
}
